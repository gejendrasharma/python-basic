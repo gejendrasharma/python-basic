{
 "cells": [
  {
   "cell_type": "code",
   "execution_count": null,
   "id": "ecb5adfd-e4d5-4c2b-981b-1c27944179a0",
   "metadata": {},
   "outputs": [],
   "source": [
    "#Q1>>Explain the key features of python  that make it a popular choice for programming.\n",
    "#1python is the programming language which is wideky used in the indrustry.\n",
    "#2python has a lot of libraries which help us to work in data indrustry.\n",
    "#3it is easy to learn ar compare to other language.\n",
    "#4Python is free and open source programming language"
   ]
  },
  {
   "cell_type": "code",
   "execution_count": 1,
   "id": "85014159-04ea-42a1-bcae-d807b5710079",
   "metadata": {},
   "outputs": [
    {
     "name": "stdout",
     "output_type": "stream",
     "text": [
      "k\n",
      "r\n",
      "i\n",
      "s\n",
      "h\n"
     ]
    }
   ],
   "source": [
    "#Q2>>Describe the role of predifined keywords in python and provide example of how they are used in a program.\n",
    "#Keywords are predefined words that have special meaning and they are used for special purpose,we can not use them as variable name or as function.\n",
    "l=\"krish\"\n",
    "for i in l:\n",
    "    print(i)\n"
   ]
  },
  {
   "cell_type": "code",
   "execution_count": 1,
   "id": "88b80b6e-bd4b-4d64-9363-46f8ee59c5e1",
   "metadata": {},
   "outputs": [
    {
     "name": "stdout",
     "output_type": "stream",
     "text": [
      "['gajendra', 'ajay', 'mohit']\n"
     ]
    },
    {
     "ename": "TypeError",
     "evalue": "'tuple' object does not support item assignment",
     "output_type": "error",
     "traceback": [
      "\u001b[0;31m---------------------------------------------------------------------------\u001b[0m",
      "\u001b[0;31mTypeError\u001b[0m                                 Traceback (most recent call last)",
      "Cell \u001b[0;32mIn[1], line 11\u001b[0m\n\u001b[1;32m      8\u001b[0m \u001b[38;5;66;03m#immutable>>immutable means not changable that means  we can not change immutable objects.\u001b[39;00m\n\u001b[1;32m      9\u001b[0m \u001b[38;5;66;03m#Ex>>tuple and string\u001b[39;00m\n\u001b[1;32m     10\u001b[0m \u001b[38;5;28mtuple\u001b[39m\u001b[38;5;241m=\u001b[39m(\u001b[38;5;124m\"\u001b[39m\u001b[38;5;124mkrish\u001b[39m\u001b[38;5;124m\"\u001b[39m,\u001b[38;5;124m\"\u001b[39m\u001b[38;5;124mram\u001b[39m\u001b[38;5;124m\"\u001b[39m,\u001b[38;5;124m\"\u001b[39m\u001b[38;5;124mshyam\u001b[39m\u001b[38;5;124m\"\u001b[39m)\n\u001b[0;32m---> 11\u001b[0m \u001b[38;5;28;43mtuple\u001b[39;49m\u001b[43m[\u001b[49m\u001b[38;5;241;43m2\u001b[39;49m\u001b[43m]\u001b[49m\u001b[38;5;241m=\u001b[39m\u001b[38;5;124m\"\u001b[39m\u001b[38;5;124mjoker\u001b[39m\u001b[38;5;124m\"\u001b[39m\n",
      "\u001b[0;31mTypeError\u001b[0m: 'tuple' object does not support item assignment"
     ]
    }
   ],
   "source": [
    "#Q3>>*0 Compare and contrast mutable and immutable objects in Python with examles.\n",
    "#mutable>>mutable means changable that means there are some object which can be change.\n",
    "#Ex list and sets.\n",
    "list=[\"krish\",\"ajay\",\"mohit\"]\n",
    "list[0]=\"gajendra\"\n",
    "print(list)\n",
    "\n",
    "#immutable>>immutable means not changable that means  we can not change immutable objects.\n",
    "#Ex>>tuple and string\n",
    "tuple=(\"krish\",\"ram\",\"shyam\")\n",
    "tuple[2]=\"joker\"\n"
   ]
  },
  {
   "cell_type": "code",
   "execution_count": 2,
   "id": "fdac1085-47ac-430f-ba62-afa474657ce9",
   "metadata": {},
   "outputs": [
    {
     "name": "stdin",
     "output_type": "stream",
     "text": [
      "enter the value of a 5\n",
      "enter the value of b 6\n"
     ]
    },
    {
     "name": "stdout",
     "output_type": "stream",
     "text": [
      "11\n"
     ]
    }
   ],
   "source": [
    "#Q4>> Discuss the different types of operators in Python and provide examples of how they are used.\n",
    "#arithmatic operator>>(+,-,*,%,**,/)\n",
    "#EX>>\n",
    "a=int(input(\"enter the value of a\"))\n",
    "b=int(input(\"enter the value of b\"))\n",
    "print(a+b)"
   ]
  },
  {
   "cell_type": "code",
   "execution_count": 3,
   "id": "77389f71-681e-45f6-a359-0b90ba7573b1",
   "metadata": {},
   "outputs": [
    {
     "name": "stdout",
     "output_type": "stream",
     "text": [
      "5\n"
     ]
    }
   ],
   "source": [
    "#comparison operator>>(<,>,<=,>=,!=)\n",
    "#Ex>>\n",
    "a=5\n",
    "b=8\n",
    "if a<b:\n",
    "    print(a)\n",
    "else:\n",
    "    print(b)"
   ]
  },
  {
   "cell_type": "code",
   "execution_count": 5,
   "id": "f4b1ee0c-fa7b-4892-97c7-700ff99777b7",
   "metadata": {},
   "outputs": [
    {
     "name": "stdout",
     "output_type": "stream",
     "text": [
      "5\n"
     ]
    }
   ],
   "source": [
    "#logical operator>>(or,and)\n",
    "#Ex>>\n",
    "a=4\n",
    "b=5\n",
    "c=8\n",
    "if (a<b and a>8):\n",
    "    print(a)\n",
    "else:\n",
    "    print(b)"
   ]
  },
  {
   "cell_type": "code",
   "execution_count": 7,
   "id": "f67aab4c-20ab-4881-b94d-4eef557878a0",
   "metadata": {},
   "outputs": [
    {
     "name": "stdout",
     "output_type": "stream",
     "text": [
      "20\n"
     ]
    }
   ],
   "source": [
    "#Assignment operator>>(a+=,a-=)\n",
    "#Ex>>\n",
    "a=5\n",
    "a+=15\n",
    "print(a)"
   ]
  },
  {
   "cell_type": "code",
   "execution_count": 8,
   "id": "f2f4efff-73fc-4b5f-abb6-1e180ce116f7",
   "metadata": {},
   "outputs": [],
   "source": [
    "#membership operator\n",
    "#bitwise operator\n",
    "#identify operator\n",
    "#shift operator"
   ]
  },
  {
   "cell_type": "code",
   "execution_count": 11,
   "id": "a030715c-3eba-462b-b6ec-ea646a51f62b",
   "metadata": {},
   "outputs": [
    {
     "name": "stdin",
     "output_type": "stream",
     "text": [
      "enter your pin 12345678\n"
     ]
    },
    {
     "name": "stdout",
     "output_type": "stream",
     "text": [
      "12345678\n"
     ]
    }
   ],
   "source": [
    "#Q5>>Explain the concept of type casting in Python with examples.\n",
    "#typecasting>>typecasting if the method to change the datatype of variable in other datatype.\n",
    "#Ex>>\n",
    "password=int(input(\"enter your pin\"))\n",
    "print(password)"
   ]
  },
  {
   "cell_type": "code",
   "execution_count": 14,
   "id": "a26da811-911a-425a-b146-7b8031dd9194",
   "metadata": {},
   "outputs": [
    {
     "name": "stdout",
     "output_type": "stream",
     "text": [
      "5\n"
     ]
    }
   ],
   "source": [
    "#Q6>>How do conditional statements work in Python? Illustrate with examples.\n",
    "#conditional statement>>coditional statements works on some coditon if the condition is wright then it will come in if block it have else block\n",
    "#coditional statement>>(if,if else,nested if_else)\n",
    "#Ex>>\n",
    "a=5\n",
    "b=10\n",
    "if(a<b):\n",
    "    print(a)\n",
    "else:\n",
    "    print(b)\n"
   ]
  },
  {
   "cell_type": "code",
   "execution_count": null,
   "id": "baa2b306-c2ad-48e0-b397-c8cf11bfa691",
   "metadata": {},
   "outputs": [],
   "source": [
    "#Q7 Describe the different types of loops in Python and their use cases with examples.\n",
    "#loops>>loops are used to execute a block og code repeatidly.\n",
    "#1>>while loop>>while loop used to execute a block of again and again it first check the condition then execute the code\\\n",
    "#Ex>>\n",
    "i=1\n",
    "n=10\n",
    "while(i<=n):\n",
    "    print(i)\n",
    "    i=i+1"
   ]
  },
  {
   "cell_type": "code",
   "execution_count": null,
   "id": "ee04affc-fa25-4af0-94ff-cf28f0ae75b5",
   "metadata": {},
   "outputs": [],
   "source": [
    "#2>>for loop>>iteration over a sequence of element.\n",
    "#Ex>>\n",
    "a=\"krish\"\n",
    "for i in a:\n",
    "    print(i)\n",
    "    "
   ]
  },
  {
   "cell_type": "code",
   "execution_count": null,
   "id": "bca1a190-1633-43b4-abc4-1ecdf8a62fdb",
   "metadata": {},
   "outputs": [],
   "source": []
  }
 ],
 "metadata": {
  "kernelspec": {
   "display_name": "Python 3 (ipykernel)",
   "language": "python",
   "name": "python3"
  },
  "language_info": {
   "codemirror_mode": {
    "name": "ipython",
    "version": 3
   },
   "file_extension": ".py",
   "mimetype": "text/x-python",
   "name": "python",
   "nbconvert_exporter": "python",
   "pygments_lexer": "ipython3",
   "version": "3.10.8"
  }
 },
 "nbformat": 4,
 "nbformat_minor": 5
}
