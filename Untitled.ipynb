{
 "cells": [
  {
   "cell_type": "code",
   "execution_count": 1,
   "id": "83b38b9d-ade6-4a08-94b0-a9650df37c9a",
   "metadata": {},
   "outputs": [
    {
     "name": "stdout",
     "output_type": "stream",
     "text": [
      "krish sharma\n"
     ]
    }
   ],
   "source": [
    "print(\"krish sharma\")"
   ]
  },
  {
   "cell_type": "code",
   "execution_count": null,
   "id": "d8f97d05-001b-4949-9c21-a41c36b66cf7",
   "metadata": {},
   "outputs": [],
   "source": []
  }
 ],
 "metadata": {
  "kernelspec": {
   "display_name": "Python 3 (ipykernel)",
   "language": "python",
   "name": "python3"
  },
  "language_info": {
   "codemirror_mode": {
    "name": "ipython",
    "version": 3
   },
   "file_extension": ".py",
   "mimetype": "text/x-python",
   "name": "python",
   "nbconvert_exporter": "python",
   "pygments_lexer": "ipython3",
   "version": "3.10.8"
  }
 },
 "nbformat": 4,
 "nbformat_minor": 5
}
